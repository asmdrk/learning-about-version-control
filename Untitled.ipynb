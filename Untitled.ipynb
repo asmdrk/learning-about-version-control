{
 "cells": [
  {
   "cell_type": "markdown",
   "id": "6f691682-912c-4b9c-94dc-c9379afc977a",
   "metadata": {},
   "source": [
    "Hello! This is a test notebook!"
   ]
  },
  {
   "cell_type": "code",
   "execution_count": 1,
   "id": "32d208b3-ea6d-43dc-b968-fedca4241db1",
   "metadata": {},
   "outputs": [
    {
     "name": "stdout",
     "output_type": "stream",
     "text": [
      "[1] 37\n"
     ]
    }
   ],
   "source": [
    "##Some test code for the notebook\n",
    "test = 5 + 8 * 4\n",
    "print(test)"
   ]
  },
  {
   "cell_type": "code",
   "execution_count": null,
   "id": "c9602ba3-5405-4760-8a5b-2894b376d2b3",
   "metadata": {},
   "outputs": [],
   "source": []
  }
 ],
 "metadata": {
  "kernelspec": {
   "display_name": "R",
   "language": "R",
   "name": "ir"
  },
  "language_info": {
   "codemirror_mode": "r",
   "file_extension": ".r",
   "mimetype": "text/x-r-source",
   "name": "R",
   "pygments_lexer": "r",
   "version": "4.1.2"
  }
 },
 "nbformat": 4,
 "nbformat_minor": 5
}
